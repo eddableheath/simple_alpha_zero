{
 "cells": [
  {
   "cell_type": "markdown",
   "metadata": {},
   "source": [
    "# Meta Noughts and Crosses Test Notebook"
   ]
  },
  {
   "cell_type": "markdown",
   "metadata": {},
   "source": [
    "Here I'll be testing the implementation of the meta noughts and crosses game."
   ]
  },
  {
   "cell_type": "code",
   "execution_count": 53,
   "metadata": {},
   "outputs": [],
   "source": [
    "import numpy as np\n",
    "np.set_printoptions(edgeitems=30, linewidth=100000, \n",
    "    formatter=dict(float=lambda x: \"%.3g\" % x))"
   ]
  },
  {
   "cell_type": "code",
   "execution_count": 3,
   "metadata": {},
   "outputs": [
    {
     "data": {
      "text/plain": [
       "array([' ', ' ', ' ', ' ', 'X', ' ', 'O', ' ', ' '], dtype='<U1')"
      ]
     },
     "execution_count": 3,
     "metadata": {},
     "output_type": "execute_result"
    }
   ],
   "source": [
    "s = np.full(9, ' ', dtype=str)\n",
    "s[4] = 'X'\n",
    "s[6] = 'O'\n",
    "s"
   ]
  },
  {
   "cell_type": "code",
   "execution_count": 4,
   "metadata": {},
   "outputs": [
    {
     "data": {
      "text/plain": [
       "(array([0, 1, 2, 3, 5, 7, 8]),)"
      ]
     },
     "execution_count": 4,
     "metadata": {},
     "output_type": "execute_result"
    }
   ],
   "source": [
    "np.where(s==' ')"
   ]
  },
  {
   "cell_type": "code",
   "execution_count": 5,
   "metadata": {},
   "outputs": [
    {
     "data": {
      "text/plain": [
       "False"
      ]
     },
     "execution_count": 5,
     "metadata": {},
     "output_type": "execute_result"
    }
   ],
   "source": [
    "np.all(s[[2,4,6]] == ' ')"
   ]
  },
  {
   "cell_type": "code",
   "execution_count": 6,
   "metadata": {},
   "outputs": [],
   "source": [
    "# Test class for small board\n",
    "\n",
    "class SmallBoard():\n",
    "    \n",
    "    \"\"\"\n",
    "        Small board class. Contains information of current state of a small board, with\n",
    "        possible states:\n",
    "\n",
    "                                [' ', 'X', 'O]\n",
    "    \"\"\"\n",
    "    \n",
    "    def __init__(self) -> None:\n",
    "        self.state = np.full(9, ' ', dtype=str)\n",
    "        self.player_states = ['X', 'O']\n",
    "        self.decided = False\n",
    "        self.won_by = None\n",
    "        \n",
    "    def get_state(self):\n",
    "        \"\"\"Get the current state of the board\"\"\"\n",
    "        return self.state\n",
    "    \n",
    "    def which_positions_available(self):\n",
    "        \"\"\"Get the available positions to play\"\"\"\n",
    "        return np.where(self.state==' ')\n",
    "    \n",
    "    def check_if_won(self):\n",
    "        \"\"\"Check if a player has won, return which player has won.\"\"\"\n",
    "        win_cons = np.array([[0,1,2],[3,4,5],[6,7,8],[0,3,6],[1,4,7],[2,5,8],[0,4,8],[2,4,6]])\n",
    "        for win_con in win_cons:\n",
    "            if np.all(self.state[win_con] == 'X'):\n",
    "                return 0\n",
    "            elif np.all(self.state[win_con] == 'O'):\n",
    "                return 1\n",
    "        \n",
    "        return None\n",
    "    \n",
    "    def update_state(self, position: int, player: int):\n",
    "        \"\"\"Update the state of the board based on the position\n",
    "\n",
    "        Args:\n",
    "            position: position to update\n",
    "            player: which player is making a move, int=[0,1]\n",
    "        \"\"\"\n",
    "        if self.state[position] != ' ':\n",
    "            print('Position already taken! Try again!')\n",
    "            return\n",
    "        \n",
    "        self.state[position] = self.player_states[player]\n",
    "        \n",
    "        player_win = self.check_if_won()\n",
    "        if player_win is not None:\n",
    "            self.state = np.full(9, self.player_states[player_win])\n",
    "        \n",
    "    \n",
    "        \n",
    "        "
   ]
  },
  {
   "cell_type": "code",
   "execution_count": 7,
   "metadata": {},
   "outputs": [],
   "source": [
    "# write custom printer for now, probably a better way of doing this\n",
    "\n",
    "def small_board_print(state):\n",
    "    \"\"\"Print a small board state in ascii.\n",
    "\n",
    "    Args:\n",
    "        state: the state of the board as a flattened vector.\n",
    "    \"\"\"\n",
    "    # Check for won state to print big version\n",
    "    if np.all(state == 'X'):\n",
    "        print('\\   /\\n \\ / \\n  X  \\n / \\ \\n/   \\ ')\n",
    "        return \n",
    "    elif np.all(state == 'O'):\n",
    "        print('/ - \\ \\n|   |\\n|   |\\n|   |\\n\\ _ /')\n",
    "        return\n",
    "      \n",
    "    horizontal_line = \"-|-|-\"\n",
    "\n",
    "    def vertical_line(start_ind):\n",
    "        return f\"{state[start_ind]}|{state[start_ind+1]}|{state[start_ind+2]} \"\n",
    "\n",
    "    print(\n",
    "        f\"{vertical_line(0)}\\n{horizontal_line}\\n{vertical_line(3)}\\n{horizontal_line}\\n{vertical_line(6)}\"\n",
    "    )\n",
    "    \n",
    "    "
   ]
  },
  {
   "cell_type": "markdown",
   "metadata": {},
   "source": [
    "So this works for a playable version of the small game, what about a big game? Lets start with the printer:"
   ]
  },
  {
   "cell_type": "code",
   "execution_count": 83,
   "metadata": {},
   "outputs": [],
   "source": [
    "def small_game_formatter(state):\n",
    "    \"\"\"Format the values of a small game into sensible thing to pass to the big printer\"\"\"\n",
    "    print_array = np.full((5,5), ' ', dtype=str)\n",
    "    if np.all(state == 'X'):\n",
    "        print_array = np.array([['\\\\',' ',' ',' ','/'],\n",
    "                                [' ','\\\\',' ','/',' '],\n",
    "                                [' ',' ','X',' ',' '],\n",
    "                                [' ','/',' ','\\\\',' '],\n",
    "                                ['/',' ',' ',' ','\\\\']]) \n",
    "        return print_array\n",
    "    elif np.all(state == 'O'):\n",
    "        print_array = np.array([['/',' ','-',' ','\\\\'],\n",
    "                                ['|',' ',' ',' ','|'],\n",
    "                                ['|',' ','O',' ','|'],\n",
    "                                ['|',' ',' ',' ','|'],\n",
    "                                ['\\\\',' ','-',' ','/']])\n",
    "        return print_array\n",
    "    \n",
    "    horizontal_line = np.array(['-','|','-','|','-'])\n",
    "    \n",
    "    def val_line(ind_start):\n",
    "        return np.array([state[ind_start], '|', state[ind_start + 1], '|', state[ind_start+2]])\n",
    "    \n",
    "    for idx, _ in enumerate(print_array):\n",
    "        if idx % 2 ==0:\n",
    "            print_array[idx] = val_line(int(idx * 1.5))\n",
    "        else:\n",
    "            print_array[idx] = horizontal_line\n",
    "            \n",
    "    return print_array\n",
    "\n",
    "def big_game_print(states: np.ndarray):\n",
    "    \"\"\"Print a big game made of small games, on an input of their states\n",
    "    \n",
    "    states: (9, 9)\n",
    "    \"\"\"\n",
    "    print_array = np.full((17,17), '|', dtype=str)\n",
    "    \n",
    "    small_boards = [small_game_formatter(state) for state in states]\n",
    "    horiz_line = np.full(5, '-', dtype=str)\n",
    "    \n",
    "    print_array[0:5,0:5] = small_boards[0]\n",
    "    print_array[6:11,0:5] = small_boards[1]\n",
    "    print_array[12:,0:5] = small_boards[2]\n",
    "    print_array[0:5,6:11] = small_boards[3]\n",
    "    print_array[6:11,6:11] = small_boards[4]\n",
    "    print_array[12:,6:11] = small_boards[5]\n",
    "    print_array[0:5,12:] = small_boards[6]\n",
    "    print_array[6:11,12:] = small_boards[7]\n",
    "    print_array[12:,12:] = small_boards[8]\n",
    "    \n",
    "    print_array[5, 0:5] = horiz_line\n",
    "    print_array[5, 6:11] = horiz_line\n",
    "    print_array[5, 12:] = horiz_line\n",
    "    print_array[11, 0:5] = horiz_line\n",
    "    print_array[11, 6:11] = horiz_line\n",
    "    print_array[11, 12:] = horiz_line\n",
    "    \n",
    "    return print_array"
   ]
  },
  {
   "cell_type": "code",
   "execution_count": 92,
   "metadata": {},
   "outputs": [],
   "source": [
    "states = np.full((9,9), 'O', dtype=str)"
   ]
  },
  {
   "cell_type": "code",
   "execution_count": 93,
   "metadata": {},
   "outputs": [],
   "source": [
    "big_print = big_game_print(states)"
   ]
  },
  {
   "cell_type": "code",
   "execution_count": 94,
   "metadata": {},
   "outputs": [
    {
     "data": {
      "text/plain": [
       "array([['/', ' ', '-', ' ', '\\\\', '|', '/', ' ', '-', ' ', '\\\\', '|', '/', ' ', '-', ' ', '\\\\'],\n",
       "       ['|', ' ', ' ', ' ', '|', '|', '|', ' ', ' ', ' ', '|', '|', '|', ' ', ' ', ' ', '|'],\n",
       "       ['|', ' ', 'O', ' ', '|', '|', '|', ' ', 'O', ' ', '|', '|', '|', ' ', 'O', ' ', '|'],\n",
       "       ['|', ' ', ' ', ' ', '|', '|', '|', ' ', ' ', ' ', '|', '|', '|', ' ', ' ', ' ', '|'],\n",
       "       ['\\\\', ' ', '-', ' ', '/', '|', '\\\\', ' ', '-', ' ', '/', '|', '\\\\', ' ', '-', ' ', '/'],\n",
       "       ['-', '-', '-', '-', '-', '|', '-', '-', '-', '-', '-', '|', '-', '-', '-', '-', '-'],\n",
       "       ['/', ' ', '-', ' ', '\\\\', '|', '/', ' ', '-', ' ', '\\\\', '|', '/', ' ', '-', ' ', '\\\\'],\n",
       "       ['|', ' ', ' ', ' ', '|', '|', '|', ' ', ' ', ' ', '|', '|', '|', ' ', ' ', ' ', '|'],\n",
       "       ['|', ' ', 'O', ' ', '|', '|', '|', ' ', 'O', ' ', '|', '|', '|', ' ', 'O', ' ', '|'],\n",
       "       ['|', ' ', ' ', ' ', '|', '|', '|', ' ', ' ', ' ', '|', '|', '|', ' ', ' ', ' ', '|'],\n",
       "       ['\\\\', ' ', '-', ' ', '/', '|', '\\\\', ' ', '-', ' ', '/', '|', '\\\\', ' ', '-', ' ', '/'],\n",
       "       ['-', '-', '-', '-', '-', '|', '-', '-', '-', '-', '-', '|', '-', '-', '-', '-', '-'],\n",
       "       ['/', ' ', '-', ' ', '\\\\', '|', '/', ' ', '-', ' ', '\\\\', '|', '/', ' ', '-', ' ', '\\\\'],\n",
       "       ['|', ' ', ' ', ' ', '|', '|', '|', ' ', ' ', ' ', '|', '|', '|', ' ', ' ', ' ', '|'],\n",
       "       ['|', ' ', 'O', ' ', '|', '|', '|', ' ', 'O', ' ', '|', '|', '|', ' ', 'O', ' ', '|'],\n",
       "       ['|', ' ', ' ', ' ', '|', '|', '|', ' ', ' ', ' ', '|', '|', '|', ' ', ' ', ' ', '|'],\n",
       "       ['\\\\', ' ', '-', ' ', '/', '|', '\\\\', ' ', '-', ' ', '/', '|', '\\\\', ' ', '-', ' ', '/']], dtype='<U1')"
      ]
     },
     "execution_count": 94,
     "metadata": {},
     "output_type": "execute_result"
    }
   ],
   "source": [
    "big_print"
   ]
  },
  {
   "cell_type": "code",
   "execution_count": 95,
   "metadata": {},
   "outputs": [
    {
     "name": "stdout",
     "output_type": "stream",
     "text": [
      "/ - \\|/ - \\|/ - \\\n",
      "|   |||   |||   |\n",
      "| O ||| O ||| O |\n",
      "|   |||   |||   |\n",
      "\\ - /|\\ - /|\\ - /\n",
      "-----|-----|-----\n",
      "/ - \\|/ - \\|/ - \\\n",
      "|   |||   |||   |\n",
      "| O ||| O ||| O |\n",
      "|   |||   |||   |\n",
      "\\ - /|\\ - /|\\ - /\n",
      "-----|-----|-----\n",
      "/ - \\|/ - \\|/ - \\\n",
      "|   |||   |||   |\n",
      "| O ||| O ||| O |\n",
      "|   |||   |||   |\n",
      "\\ - /|\\ - /|\\ - /\n",
      "\n"
     ]
    }
   ],
   "source": [
    "st = ''\n",
    "for row in big_print:\n",
    "    for element in row:\n",
    "        st += element\n",
    "    st += '\\n'\n",
    "print(st)"
   ]
  },
  {
   "cell_type": "code",
   "execution_count": 96,
   "metadata": {},
   "outputs": [],
   "source": [
    "s = SmallBoard()"
   ]
  },
  {
   "cell_type": "code",
   "execution_count": 97,
   "metadata": {},
   "outputs": [
    {
     "name": "stdout",
     "output_type": "stream",
     "text": [
      " | |  \n",
      "-|-|-\n",
      " | |  \n",
      "-|-|-\n",
      " | |  \n"
     ]
    }
   ],
   "source": [
    "small_board_print(s.get_state())"
   ]
  },
  {
   "cell_type": "code",
   "execution_count": null,
   "metadata": {},
   "outputs": [],
   "source": [
    "s = np.full(9, ' ', dtype=)"
   ]
  }
 ],
 "metadata": {
  "kernelspec": {
   "display_name": "alphaenv",
   "language": "python",
   "name": "python3"
  },
  "language_info": {
   "codemirror_mode": {
    "name": "ipython",
    "version": 3
   },
   "file_extension": ".py",
   "mimetype": "text/x-python",
   "name": "python",
   "nbconvert_exporter": "python",
   "pygments_lexer": "ipython3",
   "version": "3.11.4"
  },
  "orig_nbformat": 4
 },
 "nbformat": 4,
 "nbformat_minor": 2
}
