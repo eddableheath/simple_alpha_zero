{
 "cells": [
  {
   "cell_type": "markdown",
   "metadata": {},
   "source": [
    "# Meta Noughts and Crosses Test Notebook"
   ]
  },
  {
   "cell_type": "markdown",
   "metadata": {},
   "source": [
    "Here I'll be testing the implementation of the meta noughts and crosses game."
   ]
  },
  {
   "cell_type": "code",
   "execution_count": 23,
   "metadata": {},
   "outputs": [],
   "source": [
    "import numpy as np"
   ]
  },
  {
   "cell_type": "code",
   "execution_count": 3,
   "metadata": {},
   "outputs": [
    {
     "data": {
      "text/plain": [
       "array([' ', ' ', ' ', ' ', 'X', ' ', 'O', ' ', ' '], dtype='<U1')"
      ]
     },
     "execution_count": 3,
     "metadata": {},
     "output_type": "execute_result"
    }
   ],
   "source": [
    "s = np.full(9, ' ', dtype=str)\n",
    "s[4] = 'X'\n",
    "s[6] = 'O'\n",
    "s"
   ]
  },
  {
   "cell_type": "code",
   "execution_count": 4,
   "metadata": {},
   "outputs": [
    {
     "data": {
      "text/plain": [
       "(array([0, 1, 2, 3, 5, 7, 8]),)"
      ]
     },
     "execution_count": 4,
     "metadata": {},
     "output_type": "execute_result"
    }
   ],
   "source": [
    "np.where(s==' ')"
   ]
  },
  {
   "cell_type": "code",
   "execution_count": 41,
   "metadata": {},
   "outputs": [
    {
     "data": {
      "text/plain": [
       "False"
      ]
     },
     "execution_count": 41,
     "metadata": {},
     "output_type": "execute_result"
    }
   ],
   "source": [
    "np.all(s[[2,4,6]] == ' ')"
   ]
  },
  {
   "cell_type": "code",
   "execution_count": 64,
   "metadata": {},
   "outputs": [],
   "source": [
    "# Test class for small board\n",
    "\n",
    "class SmallBoard():\n",
    "    \n",
    "    \"\"\"\n",
    "        Small board class. Contains information of current state of a small board, with\n",
    "        possible states:\n",
    "\n",
    "                                [' ', 'X', 'O]\n",
    "    \"\"\"\n",
    "    \n",
    "    def __init__(self) -> None:\n",
    "        self.state = np.full(9, ' ', dtype=str)\n",
    "        self.player_states = ['X', 'O']\n",
    "        self.decided = False\n",
    "        self.won_by = None\n",
    "        \n",
    "    def get_state(self):\n",
    "        \"\"\"Get the current state of the board\"\"\"\n",
    "        return self.state\n",
    "    \n",
    "    def which_positions_available(self):\n",
    "        \"\"\"Get the available positions to play\"\"\"\n",
    "        return np.where(self.state==' ')\n",
    "    \n",
    "    def check_if_won(self):\n",
    "        \"\"\"Check if a player has won, return which player has won.\"\"\"\n",
    "        win_cons = np.array([[0,1,2],[3,4,5],[6,7,8],[0,3,6],[1,4,7],[2,5,8],[0,4,8],[2,4,6]])\n",
    "        for win_con in win_cons:\n",
    "            if np.all(self.state[win_con] == 'X'):\n",
    "                return 0\n",
    "            elif np.all(self.state[win_con] == 'O'):\n",
    "                return 1\n",
    "        \n",
    "        return None\n",
    "    \n",
    "    def update_state(self, position: int, player: int):\n",
    "        \"\"\"Update the state of the board based on the position\n",
    "\n",
    "        Args:\n",
    "            position: position to update\n",
    "            player: which player is making a move, int=[0,1]\n",
    "        \"\"\"\n",
    "        if self.state[position] != ' ':\n",
    "            print('Position already taken! Try again!')\n",
    "            return\n",
    "        \n",
    "        self.state[position] = self.player_states[player]\n",
    "        \n",
    "        player_win = self.check_if_won()\n",
    "        if player_win is not None:\n",
    "            self.state = np.full(9, self.player_states[player_win])\n",
    "        \n",
    "    \n",
    "        \n",
    "        "
   ]
  },
  {
   "cell_type": "code",
   "execution_count": 174,
   "metadata": {},
   "outputs": [],
   "source": [
    "# write custom printer for now, probably a better way of doing this\n",
    "\n",
    "def small_board_print(state):\n",
    "    \"\"\"Print a small board state in ascii.\n",
    "\n",
    "    Args:\n",
    "        state: the state of the board as a flattened vector.\n",
    "    \"\"\"\n",
    "    # Check for won state to print big version\n",
    "    if np.all(state == 'X'):\n",
    "        print('\\   /\\n \\ / \\n  X  \\n / \\ \\n/   \\ ')\n",
    "        return \n",
    "    elif np.all(state == 'O'):\n",
    "        print('/ - \\ \\n|   |\\n|   |\\n|   |\\n\\ _ /')\n",
    "        return\n",
    "      \n",
    "    horizontal_line = \"-|-|-\"\n",
    "\n",
    "    def vertical_line(start_ind):\n",
    "        return f\"{state[start_ind]}|{state[start_ind+1]}|{state[start_ind+2]} \"\n",
    "\n",
    "    print(\n",
    "        f\"{vertical_line(0)}\\n{horizontal_line}\\n{vertical_line(3)}\\n{horizontal_line}\\n{vertical_line(6)}\"\n",
    "    )\n",
    "    \n",
    "    "
   ]
  },
  {
   "cell_type": "markdown",
   "metadata": {},
   "source": []
  }
 ],
 "metadata": {
  "kernelspec": {
   "display_name": "alphaenv",
   "language": "python",
   "name": "python3"
  },
  "language_info": {
   "codemirror_mode": {
    "name": "ipython",
    "version": 3
   },
   "file_extension": ".py",
   "mimetype": "text/x-python",
   "name": "python",
   "nbconvert_exporter": "python",
   "pygments_lexer": "ipython3",
   "version": "3.11.4"
  },
  "orig_nbformat": 4
 },
 "nbformat": 4,
 "nbformat_minor": 2
}
