{
 "cells": [
  {
   "cell_type": "markdown",
   "metadata": {},
   "source": [
    "# Meta Noughts and Crosses Test Notebook"
   ]
  },
  {
   "cell_type": "markdown",
   "metadata": {},
   "source": [
    "Here I'll be testing the implementation of the meta noughts and crosses game."
   ]
  },
  {
   "cell_type": "code",
   "execution_count": 1,
   "metadata": {},
   "outputs": [],
   "source": [
    "import numpy as np\n",
    "from warnings import warn"
   ]
  },
  {
   "cell_type": "code",
   "execution_count": 23,
   "metadata": {},
   "outputs": [
    {
     "data": {
      "text/plain": [
       "array([' ', ' ', ' ', ' ', 'X', ' ', 'O', ' ', ' '], dtype='<U1')"
      ]
     },
     "execution_count": 23,
     "metadata": {},
     "output_type": "execute_result"
    }
   ],
   "source": [
    "s = np.full(9, ' ', dtype=str)\n",
    "s[4] = 'X'\n",
    "s[6] = 'O'\n",
    "s"
   ]
  },
  {
   "cell_type": "code",
   "execution_count": 24,
   "metadata": {},
   "outputs": [
    {
     "data": {
      "text/plain": [
       "(array([0, 1, 2, 3, 5, 7, 8]),)"
      ]
     },
     "execution_count": 24,
     "metadata": {},
     "output_type": "execute_result"
    }
   ],
   "source": [
    "np.where(s==' ')"
   ]
  },
  {
   "cell_type": "code",
   "execution_count": 36,
   "metadata": {},
   "outputs": [],
   "source": [
    "# Test class for small board\n",
    "\n",
    "class SmallBoard():\n",
    "    \n",
    "    \"\"\"\n",
    "        Small board class. Contains information of current state of a small board, with\n",
    "        possible states:\n",
    "\n",
    "                                [' ', 'X', 'O]\n",
    "    \"\"\"\n",
    "    \n",
    "    def __init__(self) -> None:\n",
    "        self.state = np.full(9, ' ', dtype=str)\n",
    "        self.player_states = ['X', 'O']\n",
    "        \n",
    "    def get_state(self):\n",
    "        \"\"\"Get the current state of the board\"\"\"\n",
    "        return self.state\n",
    "    \n",
    "    def which_positions_available(self):\n",
    "        \"\"\"Get the available positions to play\"\"\"\n",
    "        return np.where(self.state==' ')\n",
    "    \n",
    "    def update_state(self, position: int, player: int):\n",
    "        \"\"\"Update the state of the board based on the position\n",
    "\n",
    "        Args:\n",
    "            position: position to update\n",
    "            player: which player is making a move, int=[0,1]\n",
    "        \"\"\"\n",
    "        if self.state[position] != ' ':\n",
    "            warn('Position already taken!')\n",
    "            return 1\n",
    "        \n",
    "        self.state[position] = self.player_states[player]\n",
    "        "
   ]
  },
  {
   "cell_type": "code",
   "execution_count": 37,
   "metadata": {},
   "outputs": [],
   "source": [
    "# write custom printer for now, probably a better way of doing this\n",
    "\n",
    "def small_board_print(state):\n",
    "    \"\"\"Print a small board state in ascii.\n",
    "\n",
    "    Args:\n",
    "        state: the state of the board as a flattened vector.\n",
    "    \"\"\"\n",
    "    horizontal_line = '-|-|-'\n",
    "    def vertical_line(start_ind):\n",
    "        return f'{state[start_ind]}|{state[start_ind+1]}|{state[start_ind+2]} '\n",
    "    \n",
    "    print(f'{vertical_line(0)}\\n{horizontal_line}\\n{vertical_line(3)}\\n{horizontal_line}\\n{vertical_line(6)}')"
   ]
  },
  {
   "cell_type": "code",
   "execution_count": 38,
   "metadata": {},
   "outputs": [
    {
     "name": "stdout",
     "output_type": "stream",
     "text": [
      " | |  \n",
      "-|-|-\n",
      " |X|  \n",
      "-|-|-\n",
      "O| |  \n"
     ]
    }
   ],
   "source": [
    "small_board_print(s)"
   ]
  },
  {
   "cell_type": "code",
   "execution_count": 39,
   "metadata": {},
   "outputs": [],
   "source": [
    "test_board = SmallBoard()"
   ]
  },
  {
   "cell_type": "code",
   "execution_count": 40,
   "metadata": {},
   "outputs": [
    {
     "data": {
      "text/plain": [
       "array([' ', ' ', ' ', ' ', ' ', ' ', ' ', ' ', ' '], dtype='<U1')"
      ]
     },
     "execution_count": 40,
     "metadata": {},
     "output_type": "execute_result"
    }
   ],
   "source": [
    "test_board.get_state()"
   ]
  },
  {
   "cell_type": "code",
   "execution_count": 41,
   "metadata": {},
   "outputs": [
    {
     "data": {
      "text/plain": [
       "(array([0, 1, 2, 3, 4, 5, 6, 7, 8]),)"
      ]
     },
     "execution_count": 41,
     "metadata": {},
     "output_type": "execute_result"
    }
   ],
   "source": [
    "test_board.which_positions_available()"
   ]
  },
  {
   "cell_type": "code",
   "execution_count": 42,
   "metadata": {},
   "outputs": [
    {
     "name": "stdout",
     "output_type": "stream",
     "text": [
      " | |  \n",
      "-|-|-\n",
      " | |  \n",
      "-|-|-\n",
      " | |  \n"
     ]
    }
   ],
   "source": [
    "small_board_print(test_board.get_state())"
   ]
  },
  {
   "cell_type": "code",
   "execution_count": 43,
   "metadata": {},
   "outputs": [
    {
     "name": "stdout",
     "output_type": "stream",
     "text": [
      " | |  \n",
      "-|-|-\n",
      " |X|  \n",
      "-|-|-\n",
      " | |  \n"
     ]
    }
   ],
   "source": [
    "test_board.update_state(4, 0)\n",
    "small_board_print(test_board.get_state())"
   ]
  },
  {
   "cell_type": "code",
   "execution_count": null,
   "metadata": {},
   "outputs": [],
   "source": []
  }
 ],
 "metadata": {
  "kernelspec": {
   "display_name": "alphaenv",
   "language": "python",
   "name": "python3"
  },
  "language_info": {
   "codemirror_mode": {
    "name": "ipython",
    "version": 3
   },
   "file_extension": ".py",
   "mimetype": "text/x-python",
   "name": "python",
   "nbconvert_exporter": "python",
   "pygments_lexer": "ipython3",
   "version": "3.11.4"
  },
  "orig_nbformat": 4
 },
 "nbformat": 4,
 "nbformat_minor": 2
}
